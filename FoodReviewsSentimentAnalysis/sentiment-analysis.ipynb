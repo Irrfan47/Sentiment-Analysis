{
 "cells": [
  {
   "cell_type": "markdown",
   "metadata": {},
   "source": [
    "# 1. Data Retrieval and Loading:"
   ]
  },
  {
   "cell_type": "code",
   "execution_count": 1,
   "metadata": {
    "_cell_guid": "b1076dfc-b9ad-4769-8c92-a6c4dae69d19",
    "_uuid": "8f2839f25d086af736a60e9eeb907d3b93b6e0e5",
    "execution": {
     "iopub.execute_input": "2025-01-28T07:26:23.115460Z",
     "iopub.status.busy": "2025-01-28T07:26:23.115227Z",
     "iopub.status.idle": "2025-01-28T07:26:23.119104Z",
     "shell.execute_reply": "2025-01-28T07:26:23.118229Z",
     "shell.execute_reply.started": "2025-01-28T07:26:23.115436Z"
    },
    "trusted": true
   },
   "outputs": [],
   "source": [
    "import numpy as np # linear algebra\n",
    "import pandas as pd # data processing, CSV file I/O (e.g. pd.read_csv)\n",
    "import os"
   ]
  },
  {
   "cell_type": "code",
   "execution_count": null,
   "metadata": {
    "_cell_guid": "79c7e3d0-c299-4dcb-8224-4455121ee9b0",
    "_uuid": "d629ff2d2480ee46fbb7e2d37f6b5fab8052498a",
    "execution": {
     "iopub.execute_input": "2025-01-28T07:26:23.121711Z",
     "iopub.status.busy": "2025-01-28T07:26:23.121380Z",
     "iopub.status.idle": "2025-01-28T07:26:30.059593Z",
     "shell.execute_reply": "2025-01-28T07:26:30.058822Z",
     "shell.execute_reply.started": "2025-01-28T07:26:23.121677Z"
    },
    "trusted": true
   },
   "outputs": [],
   "source": [
    "df = pd.read_csv('/kaggle/input/amazon-fine-food-reviews/Reviews.csv')\n",
    "df.head()"
   ]
  },
  {
   "cell_type": "markdown",
   "metadata": {},
   "source": [
    "# 2. Data Visualization:"
   ]
  },
  {
   "cell_type": "code",
   "execution_count": null,
   "metadata": {
    "execution": {
     "iopub.execute_input": "2025-01-28T07:26:30.061918Z",
     "iopub.status.busy": "2025-01-28T07:26:30.061643Z",
     "iopub.status.idle": "2025-01-28T07:26:32.981399Z",
     "shell.execute_reply": "2025-01-28T07:26:32.980550Z",
     "shell.execute_reply.started": "2025-01-28T07:26:30.061892Z"
    },
    "trusted": true
   },
   "outputs": [],
   "source": [
    "#Imports\n",
    "import matplotlib.pyplot as plt\n",
    "import seaborn as sns\n",
    "color = sns.color_palette()\n",
    "%matplotlib inline\n",
    "import plotly.offline as py\n",
    "py.init_notebook_mode(connected=True)\n",
    "import plotly.graph_objs as go\n",
    "import plotly.tools as tls\n",
    "import plotly.express as px"
   ]
  },
  {
   "cell_type": "code",
   "execution_count": 4,
   "metadata": {
    "execution": {
     "iopub.execute_input": "2025-01-28T07:26:32.982735Z",
     "iopub.status.busy": "2025-01-28T07:26:32.982505Z",
     "iopub.status.idle": "2025-01-28T07:26:36.574552Z",
     "shell.execute_reply": "2025-01-28T07:26:36.573722Z",
     "shell.execute_reply.started": "2025-01-28T07:26:32.982711Z"
    },
    "trusted": true
   },
   "outputs": [],
   "source": [
    "# Product Scores\n",
    "fig = px.histogram(df, x=\"Score\")\n",
    "fig.update_traces(marker_color=\"turquoise\",marker_line_color='rgb(8,48,107)',\n",
    "                  marker_line_width=1.5)\n",
    "fig.update_layout(title_text='Product Score')\n",
    "fig.show()"
   ]
  },
  {
   "cell_type": "code",
   "execution_count": 5,
   "metadata": {
    "execution": {
     "iopub.execute_input": "2025-01-28T07:26:36.576032Z",
     "iopub.status.busy": "2025-01-28T07:26:36.575746Z",
     "iopub.status.idle": "2025-01-28T07:28:15.815504Z",
     "shell.execute_reply": "2025-01-28T07:28:15.814609Z",
     "shell.execute_reply.started": "2025-01-28T07:26:36.576005Z"
    },
    "trusted": true
   },
   "outputs": [],
   "source": [
    "import nltk\n",
    "from nltk.corpus import stopwords\n",
    "from wordcloud import WordCloud\n",
    "\n",
    "#Creating Stopwords list\n",
    "\n",
    "stopwords = set(stopwords.words('english'))\n",
    "stopwords.update([\"br\",\"href\"])\n",
    "textt = \" \".join(review for review in df.Text)\n",
    "wordcloud = WordCloud(stopwords=stopwords).generate(textt)\n",
    "\n",
    "plt.imshow(wordcloud, interpolation='bilinear')\n",
    "plt.axis(\"off\")\n",
    "plt.show()"
   ]
  },
  {
   "cell_type": "markdown",
   "metadata": {},
   "source": [
    "# 3. Data Preprocessing:"
   ]
  },
  {
   "cell_type": "code",
   "execution_count": 6,
   "metadata": {
    "execution": {
     "iopub.execute_input": "2025-01-28T07:28:15.817390Z",
     "iopub.status.busy": "2025-01-28T07:28:15.817010Z",
     "iopub.status.idle": "2025-01-28T07:28:16.038506Z",
     "shell.execute_reply": "2025-01-28T07:28:16.037744Z",
     "shell.execute_reply.started": "2025-01-28T07:28:15.817353Z"
    },
    "trusted": true
   },
   "outputs": [],
   "source": [
    "# assign reviews with score > 3 as positive sentiment\n",
    "# score < 3 negative sentiment\n",
    "# remove score = 3\n",
    "df = df[df['Score'] != 3]\n",
    "df['sentiment'] = df['Score'].apply(lambda rating : +1 if rating > 3 else -1)\n"
   ]
  },
  {
   "cell_type": "code",
   "execution_count": 7,
   "metadata": {
    "execution": {
     "iopub.execute_input": "2025-01-28T07:28:16.039736Z",
     "iopub.status.busy": "2025-01-28T07:28:16.039519Z",
     "iopub.status.idle": "2025-01-28T07:28:16.052894Z",
     "shell.execute_reply": "2025-01-28T07:28:16.052215Z",
     "shell.execute_reply.started": "2025-01-28T07:28:16.039715Z"
    },
    "trusted": true
   },
   "outputs": [],
   "source": [
    "df.head()"
   ]
  },
  {
   "cell_type": "markdown",
   "metadata": {},
   "source": [
    "# 4. Word Cloud Visualization:"
   ]
  },
  {
   "cell_type": "code",
   "execution_count": 8,
   "metadata": {
    "execution": {
     "iopub.execute_input": "2025-01-28T07:28:16.054724Z",
     "iopub.status.busy": "2025-01-28T07:28:16.054369Z",
     "iopub.status.idle": "2025-01-28T07:28:16.149345Z",
     "shell.execute_reply": "2025-01-28T07:28:16.148466Z",
     "shell.execute_reply.started": "2025-01-28T07:28:16.054688Z"
    },
    "trusted": true
   },
   "outputs": [],
   "source": [
    "# split df - positive and negative sentiment:\n",
    "positive = df[df['sentiment'] == 1]\n",
    "negative = df[df['sentiment'] == -1]\n"
   ]
  },
  {
   "cell_type": "code",
   "execution_count": 9,
   "metadata": {
    "execution": {
     "iopub.execute_input": "2025-01-28T07:28:16.152239Z",
     "iopub.status.busy": "2025-01-28T07:28:16.151983Z",
     "iopub.status.idle": "2025-01-28T07:28:16.416378Z",
     "shell.execute_reply": "2025-01-28T07:28:16.415613Z",
     "shell.execute_reply.started": "2025-01-28T07:28:16.152206Z"
    },
    "trusted": true
   },
   "outputs": [],
   "source": [
    "positive = positive.dropna()\n",
    "negative = negative.dropna()"
   ]
  },
  {
   "cell_type": "markdown",
   "metadata": {},
   "source": [
    "# Wordcloud — Positive Sentiment"
   ]
  },
  {
   "cell_type": "code",
   "execution_count": null,
   "metadata": {
    "execution": {
     "iopub.execute_input": "2025-01-28T07:28:16.418112Z",
     "iopub.status.busy": "2025-01-28T07:28:16.417857Z",
     "iopub.status.idle": "2025-01-28T07:28:21.949965Z",
     "shell.execute_reply": "2025-01-28T07:28:21.949204Z",
     "shell.execute_reply.started": "2025-01-28T07:28:16.418087Z"
    },
    "trusted": true
   },
   "outputs": [],
   "source": [
    "import nltk\n",
    "from nltk.corpus import stopwords\n",
    "\n",
    "stopwords = set(stopwords.words('english'))\n",
    "stopwords.update([\"br\", \"stuff\", \"href\",\"good\",\"great\", \"taste\", \"product\", \"flavour\",\"like\", \"coffee\", \"dog\",\"flavor\",\"buy\"]) \n",
    "## good and great removed because they were included in negative sentiment\n",
    "pos = \" \".join(review for review in positive.Summary)\n",
    "wordcloud = WordCloud(stopwords=stopwords).generate(pos)\n",
    "plt.imshow(wordcloud, interpolation='bilinear')\n",
    "plt.axis(\"off\")\n",
    "plt.show()"
   ]
  },
  {
   "cell_type": "markdown",
   "metadata": {},
   "source": [
    "# Wordcloud - Negative Sentiment"
   ]
  },
  {
   "cell_type": "code",
   "execution_count": null,
   "metadata": {
    "execution": {
     "iopub.execute_input": "2025-01-28T07:28:21.951078Z",
     "iopub.status.busy": "2025-01-28T07:28:21.950864Z",
     "iopub.status.idle": "2025-01-28T07:28:23.376931Z",
     "shell.execute_reply": "2025-01-28T07:28:23.376057Z",
     "shell.execute_reply.started": "2025-01-28T07:28:21.951057Z"
    },
    "trusted": true
   },
   "outputs": [],
   "source": [
    "import nltk\n",
    "from nltk.corpus import stopwords\n",
    "from wordcloud import WordCloud\n",
    "stopwords = set(stopwords.words('english'))\n",
    "stopwords.update([\"br\", \"tastes\", \"href\",\"good\",\"great\", \"taste\", \"product\", \"flavour\",\"like\", \"coffee\", \"dog\",\"flavor\",\"buy\"]) \n",
    "\n",
    "negreviews = \" \".join(review for review in negative.Summary)\n",
    "wordcloud = WordCloud(stopwords=stopwords).generate(negreviews)\n",
    "plt.imshow(wordcloud, interpolation='bilinear')\n",
    "plt.axis(\"off\")\n",
    "plt.show()"
   ]
  },
  {
   "cell_type": "markdown",
   "metadata": {},
   "source": [
    "# 5. Sentiment Analysis:"
   ]
  },
  {
   "cell_type": "code",
   "execution_count": null,
   "metadata": {
    "execution": {
     "iopub.execute_input": "2025-01-28T07:28:23.378147Z",
     "iopub.status.busy": "2025-01-28T07:28:23.377927Z",
     "iopub.status.idle": "2025-01-28T07:28:27.885997Z",
     "shell.execute_reply": "2025-01-28T07:28:27.884332Z",
     "shell.execute_reply.started": "2025-01-28T07:28:23.378125Z"
    },
    "trusted": true
   },
   "outputs": [],
   "source": [
    "df['sentimentt'] = df['sentiment'].replace({-1 : 'negative'})\n",
    "df['sentimentt'] = df['sentimentt'].replace({1 : 'positive'})\n",
    "fig = px.histogram(df, x=\"sentimentt\")\n",
    "fig.update_traces(marker_color=\"indianred\",marker_line_color='rgb(8,48,107)',\n",
    "                  marker_line_width=1.5)\n",
    "fig.update_layout(title_text='Product Sentiment')\n",
    "fig.show()"
   ]
  },
  {
   "cell_type": "markdown",
   "metadata": {},
   "source": [
    "# 6. Text Preprocessing:"
   ]
  },
  {
   "cell_type": "code",
   "execution_count": 13,
   "metadata": {
    "execution": {
     "iopub.execute_input": "2025-01-28T07:28:27.888702Z",
     "iopub.status.busy": "2025-01-28T07:28:27.888100Z",
     "iopub.status.idle": "2025-01-28T07:29:04.879605Z",
     "shell.execute_reply": "2025-01-28T07:29:04.878928Z",
     "shell.execute_reply.started": "2025-01-28T07:28:27.888669Z"
    },
    "trusted": true
   },
   "outputs": [],
   "source": [
    "def remove_punctuation(text):\n",
    "    final = \"\".join(u for u in text if u not in (\"?\", \".\", \";\", \":\",  \"!\",'\"'))\n",
    "    return final\n",
    "df['Text'] = df['Text'].apply(remove_punctuation)\n",
    "df = df.dropna(subset=['Summary'])\n",
    "df['Summary'] = df['Summary'].apply(remove_punctuation)"
   ]
  },
  {
   "cell_type": "code",
   "execution_count": null,
   "metadata": {
    "execution": {
     "iopub.execute_input": "2025-01-28T07:29:04.880777Z",
     "iopub.status.busy": "2025-01-28T07:29:04.880551Z",
     "iopub.status.idle": "2025-01-28T07:29:04.894584Z",
     "shell.execute_reply": "2025-01-28T07:29:04.893689Z",
     "shell.execute_reply.started": "2025-01-28T07:29:04.880741Z"
    },
    "trusted": true
   },
   "outputs": [],
   "source": [
    "dfNew = df[['Summary','sentiment']]\n",
    "dfNew.head()"
   ]
  },
  {
   "cell_type": "markdown",
   "metadata": {},
   "source": [
    "# 7. Data Split:"
   ]
  },
  {
   "cell_type": "code",
   "execution_count": 15,
   "metadata": {
    "execution": {
     "iopub.execute_input": "2025-01-28T07:29:04.896039Z",
     "iopub.status.busy": "2025-01-28T07:29:04.895804Z",
     "iopub.status.idle": "2025-01-28T07:29:05.012970Z",
     "shell.execute_reply": "2025-01-28T07:29:05.012260Z",
     "shell.execute_reply.started": "2025-01-28T07:29:04.896016Z"
    },
    "trusted": true
   },
   "outputs": [],
   "source": [
    "# random split train and test data\n",
    "index = df.index\n",
    "df['random_number'] = np.random.randn(len(index))\n",
    "train = df[df['random_number'] <= 0.8]\n",
    "test = df[df['random_number'] > 0.8]"
   ]
  },
  {
   "cell_type": "markdown",
   "metadata": {},
   "source": [
    "# 8. Feature Extraction:"
   ]
  },
  {
   "cell_type": "code",
   "execution_count": 16,
   "metadata": {
    "execution": {
     "iopub.execute_input": "2025-01-28T07:29:05.014496Z",
     "iopub.status.busy": "2025-01-28T07:29:05.014054Z",
     "iopub.status.idle": "2025-01-28T07:29:07.739954Z",
     "shell.execute_reply": "2025-01-28T07:29:07.739336Z",
     "shell.execute_reply.started": "2025-01-28T07:29:05.014457Z"
    },
    "trusted": true
   },
   "outputs": [],
   "source": [
    "# count vectorizer:\n",
    "from sklearn.feature_extraction.text import CountVectorizer\n",
    "vectorizer = CountVectorizer(token_pattern=r'\\b\\w+\\b')\n",
    "train_matrix = vectorizer.fit_transform(train['Summary'])\n",
    "test_matrix = vectorizer.transform(test['Summary'])"
   ]
  },
  {
   "cell_type": "markdown",
   "metadata": {},
   "source": [
    "# 9. Model Training and Prediction:"
   ]
  },
  {
   "cell_type": "code",
   "execution_count": 17,
   "metadata": {
    "execution": {
     "iopub.execute_input": "2025-01-28T07:29:07.741179Z",
     "iopub.status.busy": "2025-01-28T07:29:07.740970Z",
     "iopub.status.idle": "2025-01-28T07:29:07.745047Z",
     "shell.execute_reply": "2025-01-28T07:29:07.744290Z",
     "shell.execute_reply.started": "2025-01-28T07:29:07.741158Z"
    },
    "trusted": true
   },
   "outputs": [],
   "source": [
    "# Logistic Regression\n",
    "from sklearn.linear_model import LogisticRegression\n",
    "lr = LogisticRegression(solver='lbfgs', max_iter=6000)"
   ]
  },
  {
   "cell_type": "code",
   "execution_count": 18,
   "metadata": {
    "execution": {
     "iopub.execute_input": "2025-01-28T07:29:07.746431Z",
     "iopub.status.busy": "2025-01-28T07:29:07.746104Z",
     "iopub.status.idle": "2025-01-28T07:29:07.754785Z",
     "shell.execute_reply": "2025-01-28T07:29:07.754164Z",
     "shell.execute_reply.started": "2025-01-28T07:29:07.746397Z"
    },
    "trusted": true
   },
   "outputs": [],
   "source": [
    "X_train = train_matrix\n",
    "X_test = test_matrix\n",
    "y_train = train['sentiment']\n",
    "y_test = test['sentiment']"
   ]
  },
  {
   "cell_type": "code",
   "execution_count": 19,
   "metadata": {
    "execution": {
     "iopub.execute_input": "2025-01-28T07:29:07.755977Z",
     "iopub.status.busy": "2025-01-28T07:29:07.755751Z",
     "iopub.status.idle": "2025-01-28T07:29:07.856924Z",
     "shell.execute_reply": "2025-01-28T07:29:07.856205Z",
     "shell.execute_reply.started": "2025-01-28T07:29:07.755956Z"
    },
    "trusted": true
   },
   "outputs": [],
   "source": [
    "# Feature Scaling\n",
    "from sklearn.preprocessing import StandardScaler\n",
    "scaler = StandardScaler(with_mean=False)\n",
    "X_train = scaler.fit_transform(X_train)\n",
    "X_test = scaler.transform(X_test)"
   ]
  },
  {
   "cell_type": "code",
   "execution_count": null,
   "metadata": {
    "execution": {
     "iopub.execute_input": "2025-01-28T07:29:07.858326Z",
     "iopub.status.busy": "2025-01-28T07:29:07.858091Z",
     "iopub.status.idle": "2025-01-28T07:29:21.613553Z",
     "shell.execute_reply": "2025-01-28T07:29:21.612599Z",
     "shell.execute_reply.started": "2025-01-28T07:29:07.858305Z"
    },
    "trusted": true
   },
   "outputs": [],
   "source": [
    "lr.fit(X_train,y_train)"
   ]
  },
  {
   "cell_type": "code",
   "execution_count": 21,
   "metadata": {
    "execution": {
     "iopub.execute_input": "2025-01-28T07:29:21.615310Z",
     "iopub.status.busy": "2025-01-28T07:29:21.614963Z",
     "iopub.status.idle": "2025-01-28T07:29:21.622443Z",
     "shell.execute_reply": "2025-01-28T07:29:21.621583Z",
     "shell.execute_reply.started": "2025-01-28T07:29:21.615273Z"
    },
    "trusted": true
   },
   "outputs": [],
   "source": [
    "predictions = lr.predict(X_test)"
   ]
  },
  {
   "cell_type": "markdown",
   "metadata": {},
   "source": [
    "# 10. Model Evaluation:"
   ]
  },
  {
   "cell_type": "code",
   "execution_count": null,
   "metadata": {
    "execution": {
     "iopub.execute_input": "2025-01-28T07:29:21.624173Z",
     "iopub.status.busy": "2025-01-28T07:29:21.623886Z",
     "iopub.status.idle": "2025-01-28T07:29:21.637366Z",
     "shell.execute_reply": "2025-01-28T07:29:21.636615Z",
     "shell.execute_reply.started": "2025-01-28T07:29:21.624145Z"
    },
    "trusted": true
   },
   "outputs": [],
   "source": [
    "print(predictions)"
   ]
  },
  {
   "cell_type": "code",
   "execution_count": null,
   "metadata": {
    "execution": {
     "iopub.execute_input": "2025-01-28T07:29:21.639001Z",
     "iopub.status.busy": "2025-01-28T07:29:21.638695Z",
     "iopub.status.idle": "2025-01-28T07:29:21.733391Z",
     "shell.execute_reply": "2025-01-28T07:29:21.732546Z",
     "shell.execute_reply.started": "2025-01-28T07:29:21.638973Z"
    },
    "trusted": true
   },
   "outputs": [],
   "source": [
    "# find accuracy, precision, recall:\n",
    "\n",
    "from sklearn.metrics import confusion_matrix,classification_report\n",
    "new = np.asarray(y_test)\n",
    "confusion_matrix(predictions,y_test)"
   ]
  },
  {
   "cell_type": "code",
   "execution_count": null,
   "metadata": {
    "execution": {
     "iopub.execute_input": "2025-01-28T07:29:21.734780Z",
     "iopub.status.busy": "2025-01-28T07:29:21.734482Z",
     "iopub.status.idle": "2025-01-28T07:29:21.889263Z",
     "shell.execute_reply": "2025-01-28T07:29:21.888517Z",
     "shell.execute_reply.started": "2025-01-28T07:29:21.734733Z"
    },
    "trusted": true
   },
   "outputs": [],
   "source": [
    "print(classification_report(predictions,y_test))"
   ]
  }
 ],
 "metadata": {
  "kaggle": {
   "accelerator": "nvidiaTeslaT4",
   "dataSources": [
    {
     "datasetId": 18,
     "sourceId": 2157,
     "sourceType": "datasetVersion"
    }
   ],
   "dockerImageVersionId": 30017,
   "isGpuEnabled": true,
   "isInternetEnabled": false,
   "language": "python",
   "sourceType": "notebook"
  },
  "kernelspec": {
   "display_name": "Python 3",
   "language": "python",
   "name": "python3"
  },
  "language_info": {
   "codemirror_mode": {
    "name": "ipython",
    "version": 3
   },
   "file_extension": ".py",
   "mimetype": "text/x-python",
   "name": "python",
   "nbconvert_exporter": "python",
   "pygments_lexer": "ipython3",
   "version": "3.7.6"
  }
 },
 "nbformat": 4,
 "nbformat_minor": 4
}
